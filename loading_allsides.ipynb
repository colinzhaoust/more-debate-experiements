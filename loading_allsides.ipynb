{
 "cells": [
  {
   "cell_type": "code",
   "execution_count": 3,
   "metadata": {},
   "outputs": [
    {
     "name": "stdout",
     "output_type": "stream",
     "text": [
      "Collect stories of number:  6408\n",
      "2358\n",
      "2521\n",
      "1504\n"
     ]
    }
   ],
   "source": [
    "# -*- coding: utf-8 -*-\n",
    "\n",
    "import numpy as np\n",
    "np.seterr(divide='ignore', invalid='ignore')\n",
    "import scipy\n",
    "import time\n",
    "import warnings\n",
    "warnings.filterwarnings(action='ignore', category=UserWarning, module='gensim')\n",
    "warnings.filterwarnings(\"ignore\", category=FutureWarning)\n",
    "import gensim\n",
    "from gensim.test.utils import datapath, get_tmpfile\n",
    "from gensim.models import KeyedVectors\n",
    "import nltk, re, pprint\n",
    "from nltk import word_tokenize\n",
    "\n",
    "file_object = open('data_rectified.csv', 'rb')\n",
    "\n",
    "all_stories = dict()\n",
    "\n",
    "try:\n",
    "    for bline in file_object:\n",
    "        # print(line)\n",
    "        line = bline.decode(\"ISO-8859-1\")\n",
    "        line = line.strip(\"\\n\")\n",
    "        line = line.rstrip(\"\\r\")\n",
    "        line = line.rstrip(\",\")\n",
    "        # print(line)\n",
    "        line_collection = line.split(\",\", 2)\n",
    "        # print(len(line_collection))\n",
    "        if len(line_collection) != 3:\n",
    "            continue\n",
    "        if line_collection[1] != \"bias\":\n",
    "            # From the Right/Left/Center\n",
    "            all_stories[line_collection[2]] = line_collection[1]\n",
    "\n",
    "finally:\n",
    "    file_object.close()\n",
    "\n",
    "\n",
    "print(\"Collect stories of number: \", str(len(all_stories)))\n",
    "\n",
    "left_stories = []\n",
    "right_stories = []\n",
    "center_stories = []\n",
    "\n",
    "coc = []\n",
    "\n",
    "for key, value in all_stories.items():\n",
    "    \n",
    "    if \"Left\" in value:\n",
    "        left_stories.append(key)\n",
    "    if \"Right\" in value:\n",
    "        right_stories.append(key)\n",
    "    if \"Center\" in value:\n",
    "        center_stories.append(key)\n",
    "        \n",
    "    coc.append(key)\n",
    "\n",
    "print(len(left_stories))\n",
    "print(len(right_stories))\n",
    "print(len(center_stories))"
   ]
  },
  {
   "cell_type": "code",
   "execution_count": 10,
   "metadata": {},
   "outputs": [],
   "source": [
    "import pandas as pd\n",
    "\n",
    "csv = []\n",
    "\n",
    "for key, value in all_stories.items():\n",
    "    temp = []\n",
    "    if \"Left\" in value:\n",
    "        temp.append(key)\n",
    "        temp.append(0)\n",
    "    if \"Right\" in value:\n",
    "        temp.append(key)\n",
    "        temp.append(1)\n",
    "    if \"Center\" in value:\n",
    "        temp.append(key)\n",
    "        temp.append(2)\n",
    "    \n",
    "    csv.append(tuple(temp))\n",
    "\n",
    "df = pd.DataFrame(csv, columns=['text', 'label'])\n",
    "df.to_csv(\"allsides_3.tsv\",sep='\\t')"
   ]
  },
  {
   "cell_type": "code",
   "execution_count": null,
   "metadata": {},
   "outputs": [],
   "source": []
  }
 ],
 "metadata": {
  "kernelspec": {
   "display_name": "Python 3",
   "language": "python",
   "name": "python3"
  },
  "language_info": {
   "codemirror_mode": {
    "name": "ipython",
    "version": 3
   },
   "file_extension": ".py",
   "mimetype": "text/x-python",
   "name": "python",
   "nbconvert_exporter": "python",
   "pygments_lexer": "ipython3",
   "version": "3.7.3"
  }
 },
 "nbformat": 4,
 "nbformat_minor": 2
}
